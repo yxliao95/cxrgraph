{
 "cells": [
  {
   "cell_type": "code",
   "execution_count": 1,
   "metadata": {},
   "outputs": [],
   "source": [
    "import os\n",
    "import json\n",
    "from collections import defaultdict, Counter\n"
   ]
  },
  {
   "cell_type": "code",
   "execution_count": 6,
   "metadata": {},
   "outputs": [
    {
     "name": "stdout",
     "output_type": "stream",
     "text": [
      "28.424657534246574\n"
     ]
    }
   ],
   "source": [
    "def get_sent_num(data_path):\n",
    "    sent_num = 0\n",
    "    doc_num = 0\n",
    "    for datasplit in [\"train\", \"dev\", \"test\"]:\n",
    "        \n",
    "        with open(os.path.join(data_path, f\"{datasplit}.json\"), \"r\", encoding=\"utf-8\") as f:\n",
    "            docs = [json.loads(line) for line in f]\n",
    "            doc_num += len(docs)\n",
    "        \n",
    "        for doc in docs:\n",
    "            sent_num += len(doc[\"sentences\"])\n",
    "            \n",
    "    print(sent_num/doc_num)"
   ]
  },
  {
   "cell_type": "code",
   "execution_count": 9,
   "metadata": {},
   "outputs": [
    {
     "name": "stdout",
     "output_type": "stream",
     "text": [
      "28.424657534246574\n",
      "5.374\n",
      "9.008333333333333\n",
      "9.008333333333333\n"
     ]
    }
   ],
   "source": [
    "get_sent_num(data_path=\"/root/autodl-tmp/data/ace05/json\")\n",
    "get_sent_num(data_path=\"/root/autodl-tmp/data/scierc_data/processed_data/json\")\n",
    "get_sent_num(data_path=\"/root/autodl-tmp/data/radgraph/pred_ner34_sent_943605\")\n",
    "get_sent_num(data_path=\"/root/autodl-tmp/data/cxrgraph/json\")\n"
   ]
  }
 ],
 "metadata": {
  "kernelspec": {
   "display_name": "cxr_graph",
   "language": "python",
   "name": "python3"
  },
  "language_info": {
   "codemirror_mode": {
    "name": "ipython",
    "version": 3
   },
   "file_extension": ".py",
   "mimetype": "text/x-python",
   "name": "python",
   "nbconvert_exporter": "python",
   "pygments_lexer": "ipython3",
   "version": "3.9.18"
  }
 },
 "nbformat": 4,
 "nbformat_minor": 2
}
