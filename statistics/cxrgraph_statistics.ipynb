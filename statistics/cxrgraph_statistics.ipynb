{
 "cells": [
  {
   "cell_type": "code",
   "execution_count": 5,
   "metadata": {},
   "outputs": [],
   "source": [
    "import json\n",
    "import os\n",
    "from collections import Counter"
   ]
  },
  {
   "cell_type": "code",
   "execution_count": 6,
   "metadata": {},
   "outputs": [],
   "source": [
    "file_path = \"/root/autodl-tmp/data/cxrgraph/pred_ner35_sent_96618/train.json\""
   ]
  },
  {
   "cell_type": "code",
   "execution_count": 7,
   "metadata": {},
   "outputs": [],
   "source": [
    "with open(file_path, \"r\") as f:\n",
    "    docs = [json.loads(lines) for lines in f]"
   ]
  },
  {
   "cell_type": "code",
   "execution_count": 8,
   "metadata": {},
   "outputs": [
    {
     "name": "stdout",
     "output_type": "stream",
     "text": [
      "total doc: 425\n",
      "\n",
      "total sents: 3720\n",
      "avg sent: 8.75294117647059\n",
      "annotated sents: 2571\n",
      "avg annotated sent: 6.049411764705883\n",
      "\n",
      "total toks: 46554\n",
      "avg tok: 109.53882352941176\n",
      "annotated toks: 13141\n",
      "avg annotated tok: 30.92\n",
      "\n",
      "total ents 12765\n",
      "[('Anatomy', 5399), ('Observation-Present', 5133), ('Observation-Absent', 1369), ('Observation-Uncertain', 693), ('Location-Attribute', 171)]\n",
      "\n",
      "total attr 2304\n",
      "\n",
      "total attr_norm 417\n",
      "[('Normal', 417)]\n",
      "\n",
      "total attr_action 969\n",
      "[('Removable', 803), ('Essential', 166)]\n",
      "\n",
      "total attr_change 918\n",
      "[('Unchanged', 575), ('Negative', 179), ('Positive', 164)]\n",
      "\n",
      "total rel 9622\n",
      "[('modify', 4637), ('located_at', 3242), ('part_of', 1304), ('suggestive_of', 439)]\n"
     ]
    }
   ],
   "source": [
    "num_tok = 0\n",
    "num_sent = 0\n",
    "annotated_sent = 0\n",
    "annotated_tok = 0\n",
    "all_ner = []\n",
    "all_attr = []\n",
    "all_attr_norm = []\n",
    "all_attr_action = []\n",
    "all_attr_change = []\n",
    "all_rel = []\n",
    "for doc in docs:\n",
    "    for sent in doc[\"sentences\"]:\n",
    "        num_tok += len(sent)\n",
    "        num_sent += 1\n",
    "    \n",
    "    for sent_eles in doc[\"ner\"]:\n",
    "        if sent_eles:\n",
    "            annotated_sent += 1\n",
    "        for ele in sent_eles:\n",
    "            annotated_tok += ele[1] - ele[0] + 1\n",
    "            all_ner.append(ele[2])\n",
    "            \n",
    "    for sent_eles in doc[\"entity_attributes\"]:\n",
    "        for ele in sent_eles:\n",
    "            all_attr_norm.append(ele[2])\n",
    "            all_attr_action.append(ele[3])\n",
    "            all_attr_change.append(ele[4])\n",
    "        for ele in sent_eles:\n",
    "            for i in ele[2:]:\n",
    "                if i != \"NA\":\n",
    "                    all_attr.append(i)\n",
    "        \n",
    "    for sent_eles in doc[\"relations\"]:\n",
    "        for ele in sent_eles:\n",
    "            all_rel.append(ele[4])\n",
    "\n",
    "print(\"total doc:\", len(docs))\n",
    "print()\n",
    "print(\"total sents:\", num_sent)\n",
    "print(\"avg sent:\", num_sent / len(docs))\n",
    "print(\"annotated sents:\", annotated_sent)\n",
    "print(\"avg annotated sent:\", annotated_sent / len(docs))\n",
    "print()\n",
    "print(\"total toks:\", num_tok)\n",
    "print(\"avg tok:\", num_tok / len(docs))\n",
    "print(\"annotated toks:\", annotated_tok)\n",
    "print(\"avg annotated tok:\", annotated_tok / len(docs))\n",
    "print()\n",
    "c = Counter(all_ner)\n",
    "print(\"total ents\", len(all_ner))\n",
    "print(c.most_common())\n",
    "print()\n",
    "print(\"total attr\", len(all_attr))\n",
    "print()\n",
    "c = Counter(all_attr_norm)\n",
    "del c[\"NA\"]\n",
    "print(\"total attr_norm\", len(list(c.elements())))\n",
    "print(c.most_common())\n",
    "print()\n",
    "c = Counter(all_attr_action)\n",
    "del c[\"NA\"]\n",
    "print(\"total attr_action\", len(list(c.elements())))\n",
    "print(c.most_common())\n",
    "print()\n",
    "c = Counter(all_attr_change)\n",
    "del c[\"NA\"]\n",
    "print(\"total attr_change\", len(list(c.elements())))\n",
    "print(c.most_common())\n",
    "print()\n",
    "c = Counter(all_rel)\n",
    "print(\"total rel\", len(all_rel))\n",
    "print(c.most_common())"
   ]
  }
 ],
 "metadata": {
  "kernelspec": {
   "display_name": "base",
   "language": "python",
   "name": "python3"
  },
  "language_info": {
   "codemirror_mode": {
    "name": "ipython",
    "version": 3
   },
   "file_extension": ".py",
   "mimetype": "text/x-python",
   "name": "python",
   "nbconvert_exporter": "python",
   "pygments_lexer": "ipython3",
   "version": "3.9.18"
  }
 },
 "nbformat": 4,
 "nbformat_minor": 2
}
