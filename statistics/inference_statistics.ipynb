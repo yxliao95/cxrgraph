{
 "cells": [
  {
   "cell_type": "code",
   "execution_count": 1,
   "metadata": {},
   "outputs": [],
   "source": [
    "import json\n",
    "import os\n",
    "from collections import Counter"
   ]
  },
  {
   "cell_type": "code",
   "execution_count": 2,
   "metadata": {},
   "outputs": [],
   "source": [
    "file_path = \"/root/autodl-tmp/data/mimic/inference.json\""
   ]
  },
  {
   "cell_type": "code",
   "execution_count": 3,
   "metadata": {},
   "outputs": [],
   "source": [
    "with open(file_path, \"r\") as f:\n",
    "    docs = [json.loads(lines) for lines in f]"
   ]
  },
  {
   "cell_type": "code",
   "execution_count": 4,
   "metadata": {},
   "outputs": [
    {
     "name": "stdout",
     "output_type": "stream",
     "text": [
      "total doc: 227835\n",
      "\n",
      "total sents: 1954717\n",
      "avg sent: 8.579529045142317\n",
      "annotated sents: 1372803\n",
      "avg annotated sent: 6.025426295345316\n",
      "\n",
      "total toks: 23996770\n",
      "avg tok: 105.325213421994\n",
      "annotated toks: 6740235\n",
      "avg annotated tok: 29.583843571005332\n",
      "\n",
      "total ents 6617806\n",
      "[('Anatomy', 2789834), ('Observation-Present', 2564969), ('Observation-Absent', 828680), ('Observation-Uncertain', 339338), ('Location-Attribute', 94985)]\n",
      "\n",
      "total attr 1196000\n",
      "\n",
      "total attr_norm 268956\n",
      "[('Normal', 268956)]\n",
      "\n",
      "total attr_action 480864\n",
      "[('Removable', 403518), ('Essential', 77346)]\n",
      "\n",
      "total attr_change 446180\n",
      "[('Unchanged', 277159), ('Negative', 87610), ('Positive', 81411)]\n",
      "\n",
      "total rel 4811916\n",
      "[('modify', 2245105), ('located_at', 1641878), ('part_of', 741861), ('suggestive_of', 183072)]\n"
     ]
    }
   ],
   "source": [
    "num_tok = 0\n",
    "num_sent = 0\n",
    "annotated_sent = 0\n",
    "annotated_tok = 0\n",
    "all_ner = []\n",
    "all_attr = []\n",
    "all_attr_norm = []\n",
    "all_attr_action = []\n",
    "all_attr_change = []\n",
    "all_rel = []\n",
    "for doc in docs:\n",
    "    for sent in doc[\"sentences\"]:\n",
    "        num_tok += len(sent)\n",
    "        num_sent += 1\n",
    "    \n",
    "    for sent_eles in doc[\"pred_ner\"]:\n",
    "        if sent_eles:\n",
    "            annotated_sent += 1\n",
    "        for ele in sent_eles:\n",
    "            annotated_tok += ele[1] - ele[0] + 1\n",
    "            all_ner.append(ele[2])\n",
    "            \n",
    "    for sent_eles in doc[\"pred_attr\"]:\n",
    "        for ele in sent_eles:\n",
    "            all_attr_norm.append(ele[2])\n",
    "            all_attr_action.append(ele[3])\n",
    "            all_attr_change.append(ele[4])\n",
    "        for ele in sent_eles:\n",
    "            for i in ele[2:]:\n",
    "                if i != \"NA\":\n",
    "                    all_attr.append(i)\n",
    "                    \n",
    "    for sent_eles in doc[\"pred_rel\"]:\n",
    "        for ele in sent_eles:\n",
    "            all_rel.append(ele[4])\n",
    "\n",
    "print(\"total doc:\", len(docs))\n",
    "print()\n",
    "print(\"total sents:\", num_sent)\n",
    "print(\"avg sent:\", num_sent / len(docs))\n",
    "print(\"annotated sents:\", annotated_sent)\n",
    "print(\"avg annotated sent:\", annotated_sent / len(docs))\n",
    "print()\n",
    "print(\"total toks:\", num_tok)\n",
    "print(\"avg tok:\", num_tok / len(docs))\n",
    "print(\"annotated toks:\", annotated_tok)\n",
    "print(\"avg annotated tok:\", annotated_tok / len(docs))\n",
    "print()\n",
    "c = Counter(all_ner)\n",
    "print(\"total ents\", len(all_ner))\n",
    "print(c.most_common())\n",
    "print()\n",
    "print(\"total attr\", len(all_attr))\n",
    "print()\n",
    "c = Counter(all_attr_norm)\n",
    "del c[\"NA\"]\n",
    "print(\"total attr_norm\", len(list(c.elements())))\n",
    "print(c.most_common())\n",
    "print()\n",
    "c = Counter(all_attr_action)\n",
    "del c[\"NA\"]\n",
    "print(\"total attr_action\", len(list(c.elements())))\n",
    "print(c.most_common())\n",
    "print()\n",
    "c = Counter(all_attr_change)\n",
    "del c[\"NA\"]\n",
    "print(\"total attr_change\", len(list(c.elements())))\n",
    "print(c.most_common())\n",
    "print()\n",
    "c = Counter(all_rel)\n",
    "print(\"total rel\", len(all_rel))\n",
    "print(c.most_common())"
   ]
  }
 ],
 "metadata": {
  "kernelspec": {
   "display_name": "base",
   "language": "python",
   "name": "python3"
  },
  "language_info": {
   "codemirror_mode": {
    "name": "ipython",
    "version": 3
   },
   "file_extension": ".py",
   "mimetype": "text/x-python",
   "name": "python",
   "nbconvert_exporter": "python",
   "pygments_lexer": "ipython3",
   "version": "3.9.18"
  }
 },
 "nbformat": 4,
 "nbformat_minor": 2
}
