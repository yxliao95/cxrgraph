{
 "cells": [
  {
   "cell_type": "code",
   "execution_count": 11,
   "metadata": {},
   "outputs": [],
   "source": [
    "import os\n",
    "import re\n",
    "import json\n",
    "import shutil\n",
    "\n",
    "from tqdm import tqdm"
   ]
  },
  {
   "cell_type": "markdown",
   "metadata": {},
   "source": [
    "# Load reports from MIMIC-CXR"
   ]
  },
  {
   "cell_type": "code",
   "execution_count": 3,
   "metadata": {},
   "outputs": [
    {
     "name": "stderr",
     "output_type": "stream",
     "text": [
      "65399it [00:52, 1243.99it/s]"
     ]
    },
    {
     "name": "stdout",
     "output_type": "stream",
     "text": [
      "Totally processed: 65399 patients | 227835 studies\n"
     ]
    },
    {
     "name": "stderr",
     "output_type": "stream",
     "text": [
      "\n"
     ]
    }
   ],
   "source": [
    "docs = []\n",
    "num_patient = 0\n",
    "num_study = 0\n",
    "for dir_path, dir_names, file_names in tqdm(os.walk(\"/Users/liao/Desktop/mimic-cxr/files\")):\n",
    "    num_patient += 1\n",
    "    pid = dir_path.split(\"/\")[-1]\n",
    "    if file_names:\n",
    "        for file_name in file_names:\n",
    "            if \".DS_Store\" != file_name:\n",
    "                num_study += 1\n",
    "                sid = file_name.removesuffix(\".txt\")\n",
    "                file_path = os.path.join(dir_path, file_name)\n",
    "                with open(file_path, \"r\") as f:\n",
    "                    doc_lines = f.readlines()\n",
    "                    docs.append({\"pid\": pid, \"sid\": sid, \"doc_lines\": doc_lines})\n",
    "print(f\"Totally processed: {num_patient} patients | {num_study} studies\")"
   ]
  },
  {
   "cell_type": "markdown",
   "metadata": {},
   "source": [
    "# Write to json file"
   ]
  },
  {
   "cell_type": "code",
   "execution_count": 12,
   "metadata": {},
   "outputs": [],
   "source": [
    "output_dir = \"/Users/liao/myProjects/VSCode_workspace/cxr_graph/graph_annotation_process/outputs/mimic\"\n",
    "if os.path.exists(output_dir):\n",
    "    shutil.rmtree(output_dir)\n",
    "\n",
    "os.makedirs(output_dir)"
   ]
  },
  {
   "cell_type": "code",
   "execution_count": 13,
   "metadata": {},
   "outputs": [
    {
     "name": "stderr",
     "output_type": "stream",
     "text": [
      "100%|██████████| 227835/227835 [00:50<00:00, 4471.73it/s]"
     ]
    },
    {
     "name": "stdout",
     "output_type": "stream",
     "text": [
      "Totally processed: 227835 reports\n"
     ]
    },
    {
     "name": "stderr",
     "output_type": "stream",
     "text": [
      "\n"
     ]
    }
   ],
   "source": [
    "for doc in tqdm(docs):\n",
    "    output_dict = {\n",
    "        \"doc_key\": f\"{doc['pid'][:3]}_{doc['pid']}_{doc['sid']}.txt\",\n",
    "        \"sentences\": [],\n",
    "    }\n",
    "    sent_idx = 0\n",
    "    sent = []\n",
    "    doc_str = \" \".join(doc[\"doc_lines\"])\n",
    "    toks = re.sub('(?<! )(?=[/,-,:,.,!?()])|(?<=[/,-,:,.,!?()])(?! )', r' ', doc_str).split()\n",
    "    for tok_id, tok in enumerate(toks):\n",
    "        sent.append(tok)\n",
    "        if tok == \".\" or tok_id == len(toks) - 1:\n",
    "            output_dict[\"sentences\"].append(sent)\n",
    "            sent_idx += 1\n",
    "            sent = []\n",
    "    with open(os.path.join(output_dir, \"inference.json\"), \"a\", encoding=\"utf-8\") as f:\n",
    "        f.write(json.dumps(output_dict))\n",
    "        f.write(\"\\n\")\n",
    "\n",
    "print(f\"Totally processed: {len(docs)} reports\")"
   ]
  }
 ],
 "metadata": {
  "kernelspec": {
   "display_name": "base",
   "language": "python",
   "name": "python3"
  },
  "language_info": {
   "codemirror_mode": {
    "name": "ipython",
    "version": 3
   },
   "file_extension": ".py",
   "mimetype": "text/x-python",
   "name": "python",
   "nbconvert_exporter": "python",
   "pygments_lexer": "ipython3",
   "version": "3.9.7"
  }
 },
 "nbformat": 4,
 "nbformat_minor": 2
}
